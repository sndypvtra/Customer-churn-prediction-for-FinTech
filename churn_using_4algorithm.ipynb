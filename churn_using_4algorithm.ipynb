{
 "cells": [
  {
   "cell_type": "markdown",
   "id": "9b53c9bb",
   "metadata": {},
   "source": [
    " Nama : Sandy Putra Utama\n",
    "- Data : Fintech \n",
    "- Topic : Customer Churn Prediction"
   ]
  },
  {
   "cell_type": "code",
   "execution_count": 10,
   "id": "c8b93a5b",
   "metadata": {},
   "outputs": [],
   "source": [
    "# Import Library\n",
    "import numpy as np\n",
    "import pandas as pd\n",
    "import matplotlib.pyplot as plt\n",
    "import seaborn as sns"
   ]
  },
  {
   "cell_type": "markdown",
   "id": "2873e5bb",
   "metadata": {},
   "source": [
    "# Data Explanation"
   ]
  },
  {
   "cell_type": "code",
   "execution_count": 68,
   "id": "d8ea6b0f",
   "metadata": {
    "scrolled": true
   },
   "outputs": [
    {
     "data": {
      "text/html": [
       "<div>\n",
       "<style scoped>\n",
       "    .dataframe tbody tr th:only-of-type {\n",
       "        vertical-align: middle;\n",
       "    }\n",
       "\n",
       "    .dataframe tbody tr th {\n",
       "        vertical-align: top;\n",
       "    }\n",
       "\n",
       "    .dataframe thead th {\n",
       "        text-align: right;\n",
       "    }\n",
       "</style>\n",
       "<table border=\"1\" class=\"dataframe\">\n",
       "  <thead>\n",
       "    <tr style=\"text-align: right;\">\n",
       "      <th></th>\n",
       "      <th>user</th>\n",
       "      <th>first_open</th>\n",
       "      <th>dayofweek</th>\n",
       "      <th>hour</th>\n",
       "      <th>age</th>\n",
       "      <th>screen_list</th>\n",
       "      <th>numscreens</th>\n",
       "      <th>minigame</th>\n",
       "      <th>used_premium_feature</th>\n",
       "      <th>enrolled</th>\n",
       "      <th>enrolled_date</th>\n",
       "      <th>liked</th>\n",
       "    </tr>\n",
       "  </thead>\n",
       "  <tbody>\n",
       "    <tr>\n",
       "      <th>0</th>\n",
       "      <td>235136</td>\n",
       "      <td>2012-12-27 02:14:51.273</td>\n",
       "      <td>3</td>\n",
       "      <td>02:00:00</td>\n",
       "      <td>23</td>\n",
       "      <td>idscreen,joinscreen,Cycle,product_review,ScanP...</td>\n",
       "      <td>15</td>\n",
       "      <td>0</td>\n",
       "      <td>0</td>\n",
       "      <td>0</td>\n",
       "      <td>NaN</td>\n",
       "      <td>0</td>\n",
       "    </tr>\n",
       "    <tr>\n",
       "      <th>1</th>\n",
       "      <td>333588</td>\n",
       "      <td>2012-12-02 01:16:00.905</td>\n",
       "      <td>6</td>\n",
       "      <td>01:00:00</td>\n",
       "      <td>24</td>\n",
       "      <td>joinscreen,product_review,product_review2,Scan...</td>\n",
       "      <td>13</td>\n",
       "      <td>0</td>\n",
       "      <td>0</td>\n",
       "      <td>0</td>\n",
       "      <td>NaN</td>\n",
       "      <td>0</td>\n",
       "    </tr>\n",
       "    <tr>\n",
       "      <th>2</th>\n",
       "      <td>254414</td>\n",
       "      <td>2013-03-19 19:19:09.157</td>\n",
       "      <td>1</td>\n",
       "      <td>19:00:00</td>\n",
       "      <td>23</td>\n",
       "      <td>Splash,Cycle,Loan</td>\n",
       "      <td>3</td>\n",
       "      <td>0</td>\n",
       "      <td>1</td>\n",
       "      <td>0</td>\n",
       "      <td>NaN</td>\n",
       "      <td>1</td>\n",
       "    </tr>\n",
       "    <tr>\n",
       "      <th>3</th>\n",
       "      <td>234192</td>\n",
       "      <td>2013-07-05 16:08:46.354</td>\n",
       "      <td>4</td>\n",
       "      <td>16:00:00</td>\n",
       "      <td>28</td>\n",
       "      <td>product_review,Home,product_review,Loan3,Finan...</td>\n",
       "      <td>40</td>\n",
       "      <td>0</td>\n",
       "      <td>0</td>\n",
       "      <td>1</td>\n",
       "      <td>2013-07-05 16:11:49.513</td>\n",
       "      <td>0</td>\n",
       "    </tr>\n",
       "    <tr>\n",
       "      <th>4</th>\n",
       "      <td>51549</td>\n",
       "      <td>2013-02-26 18:50:48.661</td>\n",
       "      <td>1</td>\n",
       "      <td>18:00:00</td>\n",
       "      <td>31</td>\n",
       "      <td>idscreen,joinscreen,Cycle,Credit3Container,Sca...</td>\n",
       "      <td>32</td>\n",
       "      <td>0</td>\n",
       "      <td>0</td>\n",
       "      <td>1</td>\n",
       "      <td>2013-02-26 18:56:37.841</td>\n",
       "      <td>1</td>\n",
       "    </tr>\n",
       "    <tr>\n",
       "      <th>...</th>\n",
       "      <td>...</td>\n",
       "      <td>...</td>\n",
       "      <td>...</td>\n",
       "      <td>...</td>\n",
       "      <td>...</td>\n",
       "      <td>...</td>\n",
       "      <td>...</td>\n",
       "      <td>...</td>\n",
       "      <td>...</td>\n",
       "      <td>...</td>\n",
       "      <td>...</td>\n",
       "      <td>...</td>\n",
       "    </tr>\n",
       "    <tr>\n",
       "      <th>49995</th>\n",
       "      <td>222774</td>\n",
       "      <td>2013-05-09 13:46:17.871</td>\n",
       "      <td>3</td>\n",
       "      <td>13:00:00</td>\n",
       "      <td>32</td>\n",
       "      <td>Splash,Home,ScanPreview,VerifyPhone,VerifySSN,...</td>\n",
       "      <td>13</td>\n",
       "      <td>0</td>\n",
       "      <td>0</td>\n",
       "      <td>1</td>\n",
       "      <td>2013-05-09 13:47:52.875</td>\n",
       "      <td>0</td>\n",
       "    </tr>\n",
       "    <tr>\n",
       "      <th>49996</th>\n",
       "      <td>169179</td>\n",
       "      <td>2013-04-09 00:05:17.823</td>\n",
       "      <td>1</td>\n",
       "      <td>00:00:00</td>\n",
       "      <td>35</td>\n",
       "      <td>Cycle,Splash,Home,RewardsContainer</td>\n",
       "      <td>4</td>\n",
       "      <td>0</td>\n",
       "      <td>1</td>\n",
       "      <td>0</td>\n",
       "      <td>NaN</td>\n",
       "      <td>0</td>\n",
       "    </tr>\n",
       "    <tr>\n",
       "      <th>49997</th>\n",
       "      <td>302367</td>\n",
       "      <td>2013-02-20 22:41:51.165</td>\n",
       "      <td>2</td>\n",
       "      <td>22:00:00</td>\n",
       "      <td>39</td>\n",
       "      <td>joinscreen,product_review,product_review2,Scan...</td>\n",
       "      <td>25</td>\n",
       "      <td>0</td>\n",
       "      <td>0</td>\n",
       "      <td>0</td>\n",
       "      <td>NaN</td>\n",
       "      <td>0</td>\n",
       "    </tr>\n",
       "    <tr>\n",
       "      <th>49998</th>\n",
       "      <td>324905</td>\n",
       "      <td>2013-04-28 12:33:04.288</td>\n",
       "      <td>6</td>\n",
       "      <td>12:00:00</td>\n",
       "      <td>27</td>\n",
       "      <td>Cycle,Home,product_review,product_review,produ...</td>\n",
       "      <td>26</td>\n",
       "      <td>0</td>\n",
       "      <td>0</td>\n",
       "      <td>1</td>\n",
       "      <td>2013-04-28 12:35:38.709</td>\n",
       "      <td>0</td>\n",
       "    </tr>\n",
       "    <tr>\n",
       "      <th>49999</th>\n",
       "      <td>27047</td>\n",
       "      <td>2012-12-14 01:22:44.638</td>\n",
       "      <td>4</td>\n",
       "      <td>01:00:00</td>\n",
       "      <td>25</td>\n",
       "      <td>product_review,ScanPreview,VerifyDateOfBirth,V...</td>\n",
       "      <td>26</td>\n",
       "      <td>0</td>\n",
       "      <td>0</td>\n",
       "      <td>0</td>\n",
       "      <td>NaN</td>\n",
       "      <td>1</td>\n",
       "    </tr>\n",
       "  </tbody>\n",
       "</table>\n",
       "<p>50000 rows × 12 columns</p>\n",
       "</div>"
      ],
      "text/plain": [
       "         user               first_open  dayofweek       hour  age  \\\n",
       "0      235136  2012-12-27 02:14:51.273          3   02:00:00   23   \n",
       "1      333588  2012-12-02 01:16:00.905          6   01:00:00   24   \n",
       "2      254414  2013-03-19 19:19:09.157          1   19:00:00   23   \n",
       "3      234192  2013-07-05 16:08:46.354          4   16:00:00   28   \n",
       "4       51549  2013-02-26 18:50:48.661          1   18:00:00   31   \n",
       "...       ...                      ...        ...        ...  ...   \n",
       "49995  222774  2013-05-09 13:46:17.871          3   13:00:00   32   \n",
       "49996  169179  2013-04-09 00:05:17.823          1   00:00:00   35   \n",
       "49997  302367  2013-02-20 22:41:51.165          2   22:00:00   39   \n",
       "49998  324905  2013-04-28 12:33:04.288          6   12:00:00   27   \n",
       "49999   27047  2012-12-14 01:22:44.638          4   01:00:00   25   \n",
       "\n",
       "                                             screen_list  numscreens  \\\n",
       "0      idscreen,joinscreen,Cycle,product_review,ScanP...          15   \n",
       "1      joinscreen,product_review,product_review2,Scan...          13   \n",
       "2                                      Splash,Cycle,Loan           3   \n",
       "3      product_review,Home,product_review,Loan3,Finan...          40   \n",
       "4      idscreen,joinscreen,Cycle,Credit3Container,Sca...          32   \n",
       "...                                                  ...         ...   \n",
       "49995  Splash,Home,ScanPreview,VerifyPhone,VerifySSN,...          13   \n",
       "49996                 Cycle,Splash,Home,RewardsContainer           4   \n",
       "49997  joinscreen,product_review,product_review2,Scan...          25   \n",
       "49998  Cycle,Home,product_review,product_review,produ...          26   \n",
       "49999  product_review,ScanPreview,VerifyDateOfBirth,V...          26   \n",
       "\n",
       "       minigame  used_premium_feature  enrolled            enrolled_date  \\\n",
       "0             0                     0         0                      NaN   \n",
       "1             0                     0         0                      NaN   \n",
       "2             0                     1         0                      NaN   \n",
       "3             0                     0         1  2013-07-05 16:11:49.513   \n",
       "4             0                     0         1  2013-02-26 18:56:37.841   \n",
       "...         ...                   ...       ...                      ...   \n",
       "49995         0                     0         1  2013-05-09 13:47:52.875   \n",
       "49996         0                     1         0                      NaN   \n",
       "49997         0                     0         0                      NaN   \n",
       "49998         0                     0         1  2013-04-28 12:35:38.709   \n",
       "49999         0                     0         0                      NaN   \n",
       "\n",
       "       liked  \n",
       "0          0  \n",
       "1          0  \n",
       "2          1  \n",
       "3          0  \n",
       "4          1  \n",
       "...      ...  \n",
       "49995      0  \n",
       "49996      0  \n",
       "49997      0  \n",
       "49998      0  \n",
       "49999      1  \n",
       "\n",
       "[50000 rows x 12 columns]"
      ]
     },
     "execution_count": 68,
     "metadata": {},
     "output_type": "execute_result"
    }
   ],
   "source": [
    "# Mengimpor dataset\n",
    "df = pd.read_csv(\"data_input/data_fintech.csv\") \n",
    "df"
   ]
  },
  {
   "cell_type": "markdown",
   "id": "40b19c5c",
   "metadata": {},
   "source": [
    "Data yang digunakan adalah data dari salah satu perusahaaan aplikasi yang bergerak khusus pada bidang financial tracking keuangan untuk personal user atau untuk umkm, dari aplikasi fintrack ini kita bisa tau pola pengeluaran/pemasukan uang yang kita punya, dan siapapun yang mendownload diberikan waktu masa trial/uji coba aplikasi selama 24 jam untuk menggunakan beberapa fitur-fitur yang ada di aplikasi ini, ada yang bisa di akses selamanya yaitu feature gratis dan ada fitur yang premium(berbayar) yang bisa di akses hanya selama masa trial, dan bagi yang merasa feature premium ini sangat dibutuhkan maka setelah 24jam feature premium akan di tutup dan user dengan premium feature bisa memutuskan akan berlangganan atau tidak.\n",
    "\n",
    "\n",
    "- user\t\t     = user disini adalah user id atau sama seperti nik jika di ktp, dimana data id ini memuat banyak informasi, data ini adalah komponen utama jika kita ingin tahu ({nama, alamat, email, ip address dll,.})\n",
    "- first open \t\t= kapan pertama kali user membuka aplikasinya setelah di download\n",
    "- dayofweek \t\t= adalah indeks hari [0 - 6] = [minggu - sabtu]\n",
    "- hour \t\t\t= pada jam berapa pengguna mengaktifkan aplikasi pertama kali\n",
    "- age \t\t\t= usia pengguna aplikasi\n",
    "- screen list\t\t= halaman apa saja yang sudah di buka oleh pengguna\n",
    "- num screens     = banyaknya halaman yang sudah dibuka oleh pengguna (ada beberapa numscreen yang tidak sesuai dengan screen list)\n",
    "- minigame        = fitur game disini artinya pengguna menggunakan game atau tidak [0 - 1] = [Tidak - Ya]\n",
    "- used premium feature \t= apakah user menggunakan fiture premium berbayar atau tidak selama trial aplikasi di 24jam [0 - 1] = [Tidak - Ya]\n",
    "- enrolled        = adalah keputusan pengguna untuk berlangganan atau tidak [0 - 1] = [Tidak - Ya] kolom ini tidak terbatas pada masa trial selama 24jam\n",
    "- enrolled date   = waktu keputusan pengguna berlangganan\n",
    "- liked           = apakah user menekan fitur like pada aplikasinya [0 - 1] = [Tidak - Ya]"
   ]
  },
  {
   "cell_type": "code",
   "execution_count": 12,
   "id": "fdeb0f43",
   "metadata": {},
   "outputs": [
    {
     "data": {
      "text/html": [
       "<div>\n",
       "<style scoped>\n",
       "    .dataframe tbody tr th:only-of-type {\n",
       "        vertical-align: middle;\n",
       "    }\n",
       "\n",
       "    .dataframe tbody tr th {\n",
       "        vertical-align: top;\n",
       "    }\n",
       "\n",
       "    .dataframe thead th {\n",
       "        text-align: right;\n",
       "    }\n",
       "</style>\n",
       "<table border=\"1\" class=\"dataframe\">\n",
       "  <thead>\n",
       "    <tr style=\"text-align: right;\">\n",
       "      <th></th>\n",
       "      <th>user</th>\n",
       "      <th>dayofweek</th>\n",
       "      <th>age</th>\n",
       "      <th>numscreens</th>\n",
       "      <th>minigame</th>\n",
       "      <th>used_premium_feature</th>\n",
       "      <th>enrolled</th>\n",
       "      <th>liked</th>\n",
       "    </tr>\n",
       "  </thead>\n",
       "  <tbody>\n",
       "    <tr>\n",
       "      <th>count</th>\n",
       "      <td>50000.000000</td>\n",
       "      <td>50000.000000</td>\n",
       "      <td>50000.00000</td>\n",
       "      <td>50000.000000</td>\n",
       "      <td>50000.000000</td>\n",
       "      <td>50000.000000</td>\n",
       "      <td>50000.000000</td>\n",
       "      <td>50000.000000</td>\n",
       "    </tr>\n",
       "    <tr>\n",
       "      <th>mean</th>\n",
       "      <td>186889.729900</td>\n",
       "      <td>3.029860</td>\n",
       "      <td>31.72436</td>\n",
       "      <td>21.095900</td>\n",
       "      <td>0.107820</td>\n",
       "      <td>0.172020</td>\n",
       "      <td>0.621480</td>\n",
       "      <td>0.165000</td>\n",
       "    </tr>\n",
       "    <tr>\n",
       "      <th>std</th>\n",
       "      <td>107768.520361</td>\n",
       "      <td>2.031997</td>\n",
       "      <td>10.80331</td>\n",
       "      <td>15.728812</td>\n",
       "      <td>0.310156</td>\n",
       "      <td>0.377402</td>\n",
       "      <td>0.485023</td>\n",
       "      <td>0.371184</td>\n",
       "    </tr>\n",
       "    <tr>\n",
       "      <th>min</th>\n",
       "      <td>13.000000</td>\n",
       "      <td>0.000000</td>\n",
       "      <td>16.00000</td>\n",
       "      <td>1.000000</td>\n",
       "      <td>0.000000</td>\n",
       "      <td>0.000000</td>\n",
       "      <td>0.000000</td>\n",
       "      <td>0.000000</td>\n",
       "    </tr>\n",
       "    <tr>\n",
       "      <th>25%</th>\n",
       "      <td>93526.750000</td>\n",
       "      <td>1.000000</td>\n",
       "      <td>24.00000</td>\n",
       "      <td>10.000000</td>\n",
       "      <td>0.000000</td>\n",
       "      <td>0.000000</td>\n",
       "      <td>0.000000</td>\n",
       "      <td>0.000000</td>\n",
       "    </tr>\n",
       "    <tr>\n",
       "      <th>50%</th>\n",
       "      <td>187193.500000</td>\n",
       "      <td>3.000000</td>\n",
       "      <td>29.00000</td>\n",
       "      <td>18.000000</td>\n",
       "      <td>0.000000</td>\n",
       "      <td>0.000000</td>\n",
       "      <td>1.000000</td>\n",
       "      <td>0.000000</td>\n",
       "    </tr>\n",
       "    <tr>\n",
       "      <th>75%</th>\n",
       "      <td>279984.250000</td>\n",
       "      <td>5.000000</td>\n",
       "      <td>37.00000</td>\n",
       "      <td>28.000000</td>\n",
       "      <td>0.000000</td>\n",
       "      <td>0.000000</td>\n",
       "      <td>1.000000</td>\n",
       "      <td>0.000000</td>\n",
       "    </tr>\n",
       "    <tr>\n",
       "      <th>max</th>\n",
       "      <td>373662.000000</td>\n",
       "      <td>6.000000</td>\n",
       "      <td>101.00000</td>\n",
       "      <td>325.000000</td>\n",
       "      <td>1.000000</td>\n",
       "      <td>1.000000</td>\n",
       "      <td>1.000000</td>\n",
       "      <td>1.000000</td>\n",
       "    </tr>\n",
       "  </tbody>\n",
       "</table>\n",
       "</div>"
      ],
      "text/plain": [
       "                user     dayofweek          age    numscreens      minigame  \\\n",
       "count   50000.000000  50000.000000  50000.00000  50000.000000  50000.000000   \n",
       "mean   186889.729900      3.029860     31.72436     21.095900      0.107820   \n",
       "std    107768.520361      2.031997     10.80331     15.728812      0.310156   \n",
       "min        13.000000      0.000000     16.00000      1.000000      0.000000   \n",
       "25%     93526.750000      1.000000     24.00000     10.000000      0.000000   \n",
       "50%    187193.500000      3.000000     29.00000     18.000000      0.000000   \n",
       "75%    279984.250000      5.000000     37.00000     28.000000      0.000000   \n",
       "max    373662.000000      6.000000    101.00000    325.000000      1.000000   \n",
       "\n",
       "       used_premium_feature      enrolled         liked  \n",
       "count          50000.000000  50000.000000  50000.000000  \n",
       "mean               0.172020      0.621480      0.165000  \n",
       "std                0.377402      0.485023      0.371184  \n",
       "min                0.000000      0.000000      0.000000  \n",
       "25%                0.000000      0.000000      0.000000  \n",
       "50%                0.000000      1.000000      0.000000  \n",
       "75%                0.000000      1.000000      0.000000  \n",
       "max                1.000000      1.000000      1.000000  "
      ]
     },
     "execution_count": 12,
     "metadata": {},
     "output_type": "execute_result"
    }
   ],
   "source": [
    "# Ringkasan data\n",
    "df.describe()"
   ]
  },
  {
   "cell_type": "code",
   "execution_count": 13,
   "id": "1b7772f4",
   "metadata": {},
   "outputs": [
    {
     "data": {
      "text/plain": [
       "user                     int64\n",
       "first_open              object\n",
       "dayofweek                int64\n",
       "hour                    object\n",
       "age                      int64\n",
       "screen_list             object\n",
       "numscreens               int64\n",
       "minigame                 int64\n",
       "used_premium_feature     int64\n",
       "enrolled                 int64\n",
       "enrolled_date           object\n",
       "liked                    int64\n",
       "dtype: object"
      ]
     },
     "execution_count": 13,
     "metadata": {},
     "output_type": "execute_result"
    }
   ],
   "source": [
    "# cek tipe data\n",
    "df.dtypes"
   ]
  },
  {
   "cell_type": "code",
   "execution_count": 14,
   "id": "7374380d",
   "metadata": {},
   "outputs": [],
   "source": [
    "# Merevisi kolom num_screens\n",
    "df['screen_list'] = df.screen_list.astype(str) + ','\n",
    "df['num_screens'] = df.screen_list.str.count(',')"
   ]
  },
  {
   "cell_type": "code",
   "execution_count": 15,
   "id": "ea87ae6f",
   "metadata": {},
   "outputs": [],
   "source": [
    "# menghapus kolom asli yang bias terhadap jumlah screen yang ada\n",
    "df.drop(columns=['numscreens'], inplace=True)"
   ]
  },
  {
   "cell_type": "code",
   "execution_count": 16,
   "id": "5a66c45e",
   "metadata": {
    "scrolled": true
   },
   "outputs": [
    {
     "data": {
      "text/html": [
       "<div>\n",
       "<style scoped>\n",
       "    .dataframe tbody tr th:only-of-type {\n",
       "        vertical-align: middle;\n",
       "    }\n",
       "\n",
       "    .dataframe tbody tr th {\n",
       "        vertical-align: top;\n",
       "    }\n",
       "\n",
       "    .dataframe thead th {\n",
       "        text-align: right;\n",
       "    }\n",
       "</style>\n",
       "<table border=\"1\" class=\"dataframe\">\n",
       "  <thead>\n",
       "    <tr style=\"text-align: right;\">\n",
       "      <th></th>\n",
       "      <th>user</th>\n",
       "      <th>first_open</th>\n",
       "      <th>dayofweek</th>\n",
       "      <th>hour</th>\n",
       "      <th>age</th>\n",
       "      <th>screen_list</th>\n",
       "      <th>minigame</th>\n",
       "      <th>used_premium_feature</th>\n",
       "      <th>enrolled</th>\n",
       "      <th>enrolled_date</th>\n",
       "      <th>liked</th>\n",
       "      <th>num_screens</th>\n",
       "    </tr>\n",
       "  </thead>\n",
       "  <tbody>\n",
       "    <tr>\n",
       "      <th>0</th>\n",
       "      <td>235136</td>\n",
       "      <td>2012-12-27 02:14:51.273</td>\n",
       "      <td>3</td>\n",
       "      <td>02:00:00</td>\n",
       "      <td>23</td>\n",
       "      <td>idscreen,joinscreen,Cycle,product_review,ScanP...</td>\n",
       "      <td>0</td>\n",
       "      <td>0</td>\n",
       "      <td>0</td>\n",
       "      <td>NaN</td>\n",
       "      <td>0</td>\n",
       "      <td>13</td>\n",
       "    </tr>\n",
       "    <tr>\n",
       "      <th>1</th>\n",
       "      <td>333588</td>\n",
       "      <td>2012-12-02 01:16:00.905</td>\n",
       "      <td>6</td>\n",
       "      <td>01:00:00</td>\n",
       "      <td>24</td>\n",
       "      <td>joinscreen,product_review,product_review2,Scan...</td>\n",
       "      <td>0</td>\n",
       "      <td>0</td>\n",
       "      <td>0</td>\n",
       "      <td>NaN</td>\n",
       "      <td>0</td>\n",
       "      <td>11</td>\n",
       "    </tr>\n",
       "    <tr>\n",
       "      <th>2</th>\n",
       "      <td>254414</td>\n",
       "      <td>2013-03-19 19:19:09.157</td>\n",
       "      <td>1</td>\n",
       "      <td>19:00:00</td>\n",
       "      <td>23</td>\n",
       "      <td>Splash,Cycle,Loan,</td>\n",
       "      <td>0</td>\n",
       "      <td>1</td>\n",
       "      <td>0</td>\n",
       "      <td>NaN</td>\n",
       "      <td>1</td>\n",
       "      <td>3</td>\n",
       "    </tr>\n",
       "    <tr>\n",
       "      <th>3</th>\n",
       "      <td>234192</td>\n",
       "      <td>2013-07-05 16:08:46.354</td>\n",
       "      <td>4</td>\n",
       "      <td>16:00:00</td>\n",
       "      <td>28</td>\n",
       "      <td>product_review,Home,product_review,Loan3,Finan...</td>\n",
       "      <td>0</td>\n",
       "      <td>0</td>\n",
       "      <td>1</td>\n",
       "      <td>2013-07-05 16:11:49.513</td>\n",
       "      <td>0</td>\n",
       "      <td>17</td>\n",
       "    </tr>\n",
       "    <tr>\n",
       "      <th>4</th>\n",
       "      <td>51549</td>\n",
       "      <td>2013-02-26 18:50:48.661</td>\n",
       "      <td>1</td>\n",
       "      <td>18:00:00</td>\n",
       "      <td>31</td>\n",
       "      <td>idscreen,joinscreen,Cycle,Credit3Container,Sca...</td>\n",
       "      <td>0</td>\n",
       "      <td>0</td>\n",
       "      <td>1</td>\n",
       "      <td>2013-02-26 18:56:37.841</td>\n",
       "      <td>1</td>\n",
       "      <td>19</td>\n",
       "    </tr>\n",
       "  </tbody>\n",
       "</table>\n",
       "</div>"
      ],
      "text/plain": [
       "     user               first_open  dayofweek       hour  age  \\\n",
       "0  235136  2012-12-27 02:14:51.273          3   02:00:00   23   \n",
       "1  333588  2012-12-02 01:16:00.905          6   01:00:00   24   \n",
       "2  254414  2013-03-19 19:19:09.157          1   19:00:00   23   \n",
       "3  234192  2013-07-05 16:08:46.354          4   16:00:00   28   \n",
       "4   51549  2013-02-26 18:50:48.661          1   18:00:00   31   \n",
       "\n",
       "                                         screen_list  minigame  \\\n",
       "0  idscreen,joinscreen,Cycle,product_review,ScanP...         0   \n",
       "1  joinscreen,product_review,product_review2,Scan...         0   \n",
       "2                                 Splash,Cycle,Loan,         0   \n",
       "3  product_review,Home,product_review,Loan3,Finan...         0   \n",
       "4  idscreen,joinscreen,Cycle,Credit3Container,Sca...         0   \n",
       "\n",
       "   used_premium_feature  enrolled            enrolled_date  liked  num_screens  \n",
       "0                     0         0                      NaN      0           13  \n",
       "1                     0         0                      NaN      0           11  \n",
       "2                     1         0                      NaN      1            3  \n",
       "3                     0         1  2013-07-05 16:11:49.513      0           17  \n",
       "4                     0         1  2013-02-26 18:56:37.841      1           19  "
      ]
     },
     "execution_count": 16,
     "metadata": {},
     "output_type": "execute_result"
    }
   ],
   "source": [
    "df.head()"
   ]
  },
  {
   "cell_type": "code",
   "execution_count": 17,
   "id": "bc3aad37",
   "metadata": {},
   "outputs": [],
   "source": [
    "# Cek kolom hour\n",
    "df.hour[1] # terdapat sepasi sebelum angka 0 pada jam maka akan dilakukan slicing\n",
    "df.hour = df.hour.str.slice(1,3).astype(int)"
   ]
  },
  {
   "cell_type": "code",
   "execution_count": 18,
   "id": "d1744d96",
   "metadata": {},
   "outputs": [],
   "source": [
    "# Mendefinisikan variabel khusus numerik\n",
    "df_numerik = df.drop(columns=['user','first_open','screen_list',\n",
    "                                      'enrolled_date'], inplace=False)"
   ]
  },
  {
   "cell_type": "code",
   "execution_count": 19,
   "id": "6eb74b79",
   "metadata": {
    "scrolled": false
   },
   "outputs": [
    {
     "data": {
      "image/png": "[encoded data removed]",
      "text/plain": [
       "<Figure size 1440x1080 with 8 Axes>"
      ]
     },
     "metadata": {
      "needs_background": "light"
     },
     "output_type": "display_data"
    }
   ],
   "source": [
    "# Membuat histogram dari data numerik\n",
    "fig,ax = plt.subplots(figsize=(20,15))\n",
    "sns.set()\n",
    "plt.suptitle('Histogram Data Numerik')\n",
    "for i in range(0, df_numerik.shape[1]):\n",
    "    plt.subplot(3,3,i+1)\n",
    "    figure = plt.gca()\n",
    "    figure.set_title(df_numerik.columns.values[i])\n",
    "    jumlah_bin = np.size(df_numerik.iloc[:,i].unique())\n",
    "    plt.hist(df_numerik.iloc[:,i], bins=jumlah_bin)"
   ]
  },
  {
   "cell_type": "code",
   "execution_count": 20,
   "id": "fd4d7cc1",
   "metadata": {
    "scrolled": false
   },
   "outputs": [
    {
     "data": {
      "text/plain": [
       "<AxesSubplot:title={'center':'Korelasi variabel terhadap keputusan Enrolled'}>"
      ]
     },
     "execution_count": 20,
     "metadata": {},
     "output_type": "execute_result"
    },
    {
     "data": {
      "image/png": "[encoded data removed]",
      "text/plain": [
       "<Figure size 720x432 with 1 Axes>"
      ]
     },
     "metadata": {},
     "output_type": "display_data"
    }
   ],
   "source": [
    "# Membuat correlation bar(mencari korelasi antara variable dependent dengan semua variable independent) plot dan correlation matrix(mencari korelasi antar variable independent)\n",
    "fig,ax = plt.subplots(figsize=(10,6))\n",
    "korelasi = df_numerik.drop(columns=['enrolled'], inplace=False).corrwith(df_numerik.enrolled)\n",
    "korelasi.plot.bar(title='Korelasi variabel terhadap keputusan Enrolled')"
   ]
  },
  {
   "cell_type": "markdown",
   "id": "818d0ca6",
   "metadata": {},
   "source": [
    "**Insight** :\n",
    "- 1. jumlah num_screens dan jumlah pelanggan yang memainkan minigame (independent) berkorelasi positif terhadap enrolled(dependent) tapi tidak terlalu besar yaitu 0.3/1.0 dan 0.1/1.0.     \n",
    "- 2. semakin banyak fitur yang ada dan semakin banyak screen yang pelanggan explore terlepas dari fitur itu gratis atau premium maka akan semakin besar potensi pelanggan untuk enrolled/berlangganan.         \n",
    "- 3. serta dapat terlihat bahwa pelanggan yang menggunakan fitur premium dan pelanggan yang semakin tua justru berkorelasi negatif/ tidak berlangganan, mungkin saja bisa dikatakan bahwa usia yang semakin tua akan lebih mencoba fitur premium saja dan tidak untuk berlangganan.\n",
    "- 4. secara umum num_screen(independent) yang akan dijadikan prediktor utama dalam kasus ini.\n",
    " **Overall Analysis : dari sini kita tau bahwa pelanggan yang memutuskan berlangganan itu lebih sering explore pada aplikasi, maka ide nya adalah bisa saja pada bagian development aplikasi/websitenya harus bisa memberi performa yang optimal dan kesan semenarik mungkin, sehingga akan sangat berpotensi pada pelanggan untuk enrolled.**"
   ]
  },
  {
   "cell_type": "code",
   "execution_count": 21,
   "id": "29d1987e",
   "metadata": {},
   "outputs": [
    {
     "data": {
      "text/plain": [
       "<AxesSubplot:>"
      ]
     },
     "execution_count": 21,
     "metadata": {},
     "output_type": "execute_result"
    },
    {
     "data": {
      "image/png": "[encoded data removed]",
      "text/plain": [
       "<Figure size 432x288 with 2 Axes>"
      ]
     },
     "metadata": {},
     "output_type": "display_data"
    }
   ],
   "source": [
    "# cek korelasi antar variable independent\n",
    "matriks_korelasi = df_numerik.drop(columns=['enrolled'], inplace=False).corr()\n",
    "sns.heatmap(matriks_korelasi, cmap='Blues')"
   ]
  },
  {
   "cell_type": "code",
   "execution_count": 22,
   "id": "17678b40",
   "metadata": {
    "scrolled": false
   },
   "outputs": [
    {
     "data": {
      "image/png": "[encoded data removed]",
      "text/plain": [
       "<Figure size 720x432 with 1 Axes>"
      ]
     },
     "metadata": {},
     "output_type": "display_data"
    }
   ],
   "source": [
    "# enrolled distribution\n",
    "ax = df['enrolled'].value_counts().plot(kind='bar', figsize=(10,6), fontsize =13, color='#4671C1')\n",
    "ax.set_title('enrolled(0 = not enrolled , 1 = enrolled)', size=20, pad=30)\n",
    "ax.set_ylabel('number of enrolled', fontsize=14)\n",
    "\n",
    "for i in ax.patches:\n",
    "    ax.text(i.get_x() + 0.19, i.get_height() + 700, str(round(i.get_height(), 2)), fontsize=15)"
   ]
  },
  {
   "cell_type": "markdown",
   "id": "571b17aa",
   "metadata": {},
   "source": [
    "Dari plot diatas kita dapat melihat proporsi dari orang yang berlangganan (1) lebih banyak dibandingkan yang tidak berlangganan, disini saya memutuskan untuk tidak melakukan teknik resampling untuk membuat balance pada data, dikarnakan proporsi datanya tida terlalu inbalance bahkan 1:2 pun tidak dan disini kita akan fokus ingin melihat objectivitas pada model machine learning yang akan dibuat."
   ]
  },
  {
   "cell_type": "markdown",
   "id": "976c6265",
   "metadata": {},
   "source": [
    "## FEATURE ENGINEERING"
   ]
  },
  {
   "cell_type": "code",
   "execution_count": 23,
   "id": "f7796537",
   "metadata": {},
   "outputs": [],
   "source": [
    "# proses parsing\n",
    "from dateutil import parser\n",
    "df.first_open = [parser.parse(i) for i in df.first_open]\n",
    "df.enrolled_date = [parser.parse(i) if isinstance(i, str) else i for i in df.enrolled_date]\n",
    "df['selisih'] = (df.enrolled_date - df.first_open).astype('timedelta64[h]')"
   ]
  },
  {
   "cell_type": "code",
   "execution_count": 24,
   "id": "1311878d",
   "metadata": {},
   "outputs": [
    {
     "data": {
      "image/png": "[encoded data removed]",
      "text/plain": [
       "<Figure size 720x432 with 1 Axes>"
      ]
     },
     "metadata": {},
     "output_type": "display_data"
    }
   ],
   "source": [
    "# Membuat plot histogram dataku.selisih\n",
    "fig,ax = plt.subplots(figsize=(10,6))\n",
    "plt.hist(df.selisih.dropna())\n",
    "plt.suptitle('Selisih waktu antara enrolled dengan first open')\n",
    "plt.show()"
   ]
  },
  {
   "cell_type": "markdown",
   "id": "9b9b4ebe",
   "metadata": {},
   "source": [
    "dari plot diatas terlihat bahwa keputusan customer untuk enrolled atau tidak ada di range sekitar 500jam pertama, namun ini semua akan menjadi subjecktive jika tidak dilihat lebih dekat lagi, maka dari itu kita persempit range waktunya nya menjadi di 200jam pertama saja."
   ]
  },
  {
   "cell_type": "code",
   "execution_count": 25,
   "id": "6cc9b8e4",
   "metadata": {
    "scrolled": false
   },
   "outputs": [
    {
     "data": {
      "image/png": "[encoded data removed]",
      "text/plain": [
       "<Figure size 720x432 with 1 Axes>"
      ]
     },
     "metadata": {},
     "output_type": "display_data"
    }
   ],
   "source": [
    "# Membuat plot histogram dataku.selisih\n",
    "fig,ax = plt.subplots(figsize=(10,6))\n",
    "plt.hist(df.selisih.dropna(), range=[0,200])\n",
    "plt.suptitle('Selisih waktu antara enrolled dengan first open')\n",
    "plt.show()"
   ]
  },
  {
   "cell_type": "markdown",
   "id": "474d394f",
   "metadata": {},
   "source": [
    "oke sekarang kita bisa simpulkan bahwa kebanyakan orang memutuskan untuk enrolled atau tidak di 24 jam pertama, maka dari itu kita akan lebih fokus untuk mengambil selisih waktu di 48jam pertama saja, untuk analisah lebih lanjut."
   ]
  },
  {
   "cell_type": "code",
   "execution_count": 26,
   "id": "665184fe",
   "metadata": {},
   "outputs": [],
   "source": [
    "# Memfilter nilai selisih > 48 jam\n",
    "df.loc[df.selisih>48, 'enrolled'] = 0"
   ]
  },
  {
   "cell_type": "code",
   "execution_count": 27,
   "id": "978c635c",
   "metadata": {},
   "outputs": [],
   "source": [
    "# Mengimpor data top_screens \n",
    "top_screens = pd.read_csv('data_input/top_screens.csv')\n",
    "# Data top_screens merupakan data hasil pemecahan string (explode) dari screen_list lalu dilihat frekuensi tertingginya"
   ]
  },
  {
   "cell_type": "code",
   "execution_count": 28,
   "id": "8aa5b671",
   "metadata": {},
   "outputs": [],
   "source": [
    "top_screens = np.array(top_screens.loc[:,'top_screens'])"
   ]
  },
  {
   "cell_type": "code",
   "execution_count": 29,
   "id": "beea659a",
   "metadata": {},
   "outputs": [],
   "source": [
    "# Membuat data cadangan \n",
    "df2 = df.copy()"
   ]
  },
  {
   "cell_type": "markdown",
   "id": "51726d1e",
   "metadata": {},
   "source": [
    "### One Hot encode using looping"
   ]
  },
  {
   "cell_type": "code",
   "execution_count": 30,
   "id": "c6f8334d",
   "metadata": {},
   "outputs": [],
   "source": [
    "# Membuat kolom baru yang berisikan dummy variable untuk setiap value top_screens dari screen_list. \n",
    "for screen in top_screens:\n",
    "    df2[screen] = df2.screen_list.str.contains(screen).astype(int)\n",
    "# Menghapus semua value pada screen_list berdasarkan value dari top_screens.\n",
    "    df2['screen_list'] = df2.screen_list.str.replace(screen+',', '')"
   ]
  },
  {
   "cell_type": "code",
   "execution_count": 31,
   "id": "84bb148e",
   "metadata": {},
   "outputs": [
    {
     "data": {
      "text/html": [
       "<div>\n",
       "<style scoped>\n",
       "    .dataframe tbody tr th:only-of-type {\n",
       "        vertical-align: middle;\n",
       "    }\n",
       "\n",
       "    .dataframe tbody tr th {\n",
       "        vertical-align: top;\n",
       "    }\n",
       "\n",
       "    .dataframe thead th {\n",
       "        text-align: right;\n",
       "    }\n",
       "</style>\n",
       "<table border=\"1\" class=\"dataframe\">\n",
       "  <thead>\n",
       "    <tr style=\"text-align: right;\">\n",
       "      <th></th>\n",
       "      <th>user</th>\n",
       "      <th>first_open</th>\n",
       "      <th>dayofweek</th>\n",
       "      <th>hour</th>\n",
       "      <th>age</th>\n",
       "      <th>screen_list</th>\n",
       "      <th>minigame</th>\n",
       "      <th>used_premium_feature</th>\n",
       "      <th>enrolled</th>\n",
       "      <th>enrolled_date</th>\n",
       "      <th>...</th>\n",
       "      <th>Login</th>\n",
       "      <th>ProfileEmploymentLength</th>\n",
       "      <th>WebView</th>\n",
       "      <th>SecurityModal</th>\n",
       "      <th>Loan4</th>\n",
       "      <th>ResendToken</th>\n",
       "      <th>TransactionList</th>\n",
       "      <th>NetworkFailure</th>\n",
       "      <th>ListPicker</th>\n",
       "      <th>number_non_top_screen</th>\n",
       "    </tr>\n",
       "  </thead>\n",
       "  <tbody>\n",
       "    <tr>\n",
       "      <th>0</th>\n",
       "      <td>235136</td>\n",
       "      <td>2012-12-27 02:14:51.273</td>\n",
       "      <td>3</td>\n",
       "      <td>2</td>\n",
       "      <td>23</td>\n",
       "      <td>joinscreen,product_review,ScanPreview,VerifyTo...</td>\n",
       "      <td>0</td>\n",
       "      <td>0</td>\n",
       "      <td>0</td>\n",
       "      <td>NaT</td>\n",
       "      <td>...</td>\n",
       "      <td>1</td>\n",
       "      <td>0</td>\n",
       "      <td>0</td>\n",
       "      <td>0</td>\n",
       "      <td>0</td>\n",
       "      <td>0</td>\n",
       "      <td>0</td>\n",
       "      <td>0</td>\n",
       "      <td>0</td>\n",
       "      <td>7</td>\n",
       "    </tr>\n",
       "    <tr>\n",
       "      <th>1</th>\n",
       "      <td>333588</td>\n",
       "      <td>2012-12-02 01:16:00.905</td>\n",
       "      <td>6</td>\n",
       "      <td>1</td>\n",
       "      <td>24</td>\n",
       "      <td>joinscreen,product_review,product_review2,Scan...</td>\n",
       "      <td>0</td>\n",
       "      <td>0</td>\n",
       "      <td>0</td>\n",
       "      <td>NaT</td>\n",
       "      <td>...</td>\n",
       "      <td>0</td>\n",
       "      <td>0</td>\n",
       "      <td>0</td>\n",
       "      <td>0</td>\n",
       "      <td>0</td>\n",
       "      <td>0</td>\n",
       "      <td>0</td>\n",
       "      <td>0</td>\n",
       "      <td>0</td>\n",
       "      <td>5</td>\n",
       "    </tr>\n",
       "    <tr>\n",
       "      <th>2</th>\n",
       "      <td>254414</td>\n",
       "      <td>2013-03-19 19:19:09.157</td>\n",
       "      <td>1</td>\n",
       "      <td>19</td>\n",
       "      <td>23</td>\n",
       "      <td></td>\n",
       "      <td>0</td>\n",
       "      <td>1</td>\n",
       "      <td>0</td>\n",
       "      <td>NaT</td>\n",
       "      <td>...</td>\n",
       "      <td>0</td>\n",
       "      <td>0</td>\n",
       "      <td>0</td>\n",
       "      <td>0</td>\n",
       "      <td>0</td>\n",
       "      <td>0</td>\n",
       "      <td>0</td>\n",
       "      <td>0</td>\n",
       "      <td>0</td>\n",
       "      <td>0</td>\n",
       "    </tr>\n",
       "    <tr>\n",
       "      <th>3</th>\n",
       "      <td>234192</td>\n",
       "      <td>2013-07-05 16:08:46.354</td>\n",
       "      <td>4</td>\n",
       "      <td>16</td>\n",
       "      <td>28</td>\n",
       "      <td>product_review,Home,product_review,ReferralCon...</td>\n",
       "      <td>0</td>\n",
       "      <td>0</td>\n",
       "      <td>1</td>\n",
       "      <td>2013-07-05 16:11:49.513</td>\n",
       "      <td>...</td>\n",
       "      <td>0</td>\n",
       "      <td>0</td>\n",
       "      <td>0</td>\n",
       "      <td>0</td>\n",
       "      <td>0</td>\n",
       "      <td>0</td>\n",
       "      <td>0</td>\n",
       "      <td>0</td>\n",
       "      <td>0</td>\n",
       "      <td>6</td>\n",
       "    </tr>\n",
       "    <tr>\n",
       "      <th>4</th>\n",
       "      <td>51549</td>\n",
       "      <td>2013-02-26 18:50:48.661</td>\n",
       "      <td>1</td>\n",
       "      <td>18</td>\n",
       "      <td>31</td>\n",
       "      <td>joinscreen,ScanPreview,VerifySSN,Home,SelectIn...</td>\n",
       "      <td>0</td>\n",
       "      <td>0</td>\n",
       "      <td>1</td>\n",
       "      <td>2013-02-26 18:56:37.841</td>\n",
       "      <td>...</td>\n",
       "      <td>0</td>\n",
       "      <td>0</td>\n",
       "      <td>0</td>\n",
       "      <td>0</td>\n",
       "      <td>0</td>\n",
       "      <td>0</td>\n",
       "      <td>0</td>\n",
       "      <td>0</td>\n",
       "      <td>0</td>\n",
       "      <td>10</td>\n",
       "    </tr>\n",
       "    <tr>\n",
       "      <th>...</th>\n",
       "      <td>...</td>\n",
       "      <td>...</td>\n",
       "      <td>...</td>\n",
       "      <td>...</td>\n",
       "      <td>...</td>\n",
       "      <td>...</td>\n",
       "      <td>...</td>\n",
       "      <td>...</td>\n",
       "      <td>...</td>\n",
       "      <td>...</td>\n",
       "      <td>...</td>\n",
       "      <td>...</td>\n",
       "      <td>...</td>\n",
       "      <td>...</td>\n",
       "      <td>...</td>\n",
       "      <td>...</td>\n",
       "      <td>...</td>\n",
       "      <td>...</td>\n",
       "      <td>...</td>\n",
       "      <td>...</td>\n",
       "      <td>...</td>\n",
       "    </tr>\n",
       "    <tr>\n",
       "      <th>49995</th>\n",
       "      <td>222774</td>\n",
       "      <td>2013-05-09 13:46:17.871</td>\n",
       "      <td>3</td>\n",
       "      <td>13</td>\n",
       "      <td>32</td>\n",
       "      <td>Home,ScanPreview,VerifySSN,product_review,prod...</td>\n",
       "      <td>0</td>\n",
       "      <td>0</td>\n",
       "      <td>1</td>\n",
       "      <td>2013-05-09 13:47:52.875</td>\n",
       "      <td>...</td>\n",
       "      <td>0</td>\n",
       "      <td>0</td>\n",
       "      <td>1</td>\n",
       "      <td>0</td>\n",
       "      <td>0</td>\n",
       "      <td>0</td>\n",
       "      <td>0</td>\n",
       "      <td>0</td>\n",
       "      <td>0</td>\n",
       "      <td>6</td>\n",
       "    </tr>\n",
       "    <tr>\n",
       "      <th>49996</th>\n",
       "      <td>169179</td>\n",
       "      <td>2013-04-09 00:05:17.823</td>\n",
       "      <td>1</td>\n",
       "      <td>0</td>\n",
       "      <td>35</td>\n",
       "      <td>Home,</td>\n",
       "      <td>0</td>\n",
       "      <td>1</td>\n",
       "      <td>0</td>\n",
       "      <td>NaT</td>\n",
       "      <td>...</td>\n",
       "      <td>0</td>\n",
       "      <td>0</td>\n",
       "      <td>0</td>\n",
       "      <td>0</td>\n",
       "      <td>0</td>\n",
       "      <td>0</td>\n",
       "      <td>0</td>\n",
       "      <td>0</td>\n",
       "      <td>0</td>\n",
       "      <td>1</td>\n",
       "    </tr>\n",
       "    <tr>\n",
       "      <th>49997</th>\n",
       "      <td>302367</td>\n",
       "      <td>2013-02-20 22:41:51.165</td>\n",
       "      <td>2</td>\n",
       "      <td>22</td>\n",
       "      <td>39</td>\n",
       "      <td>joinscreen,product_review,product_review2,Scan...</td>\n",
       "      <td>0</td>\n",
       "      <td>0</td>\n",
       "      <td>0</td>\n",
       "      <td>NaT</td>\n",
       "      <td>...</td>\n",
       "      <td>0</td>\n",
       "      <td>0</td>\n",
       "      <td>0</td>\n",
       "      <td>0</td>\n",
       "      <td>0</td>\n",
       "      <td>0</td>\n",
       "      <td>0</td>\n",
       "      <td>0</td>\n",
       "      <td>0</td>\n",
       "      <td>6</td>\n",
       "    </tr>\n",
       "    <tr>\n",
       "      <th>49998</th>\n",
       "      <td>324905</td>\n",
       "      <td>2013-04-28 12:33:04.288</td>\n",
       "      <td>6</td>\n",
       "      <td>12</td>\n",
       "      <td>27</td>\n",
       "      <td>Home,product_review,product_review,product_rev...</td>\n",
       "      <td>0</td>\n",
       "      <td>0</td>\n",
       "      <td>1</td>\n",
       "      <td>2013-04-28 12:35:38.709</td>\n",
       "      <td>...</td>\n",
       "      <td>0</td>\n",
       "      <td>0</td>\n",
       "      <td>0</td>\n",
       "      <td>0</td>\n",
       "      <td>0</td>\n",
       "      <td>0</td>\n",
       "      <td>0</td>\n",
       "      <td>0</td>\n",
       "      <td>0</td>\n",
       "      <td>13</td>\n",
       "    </tr>\n",
       "    <tr>\n",
       "      <th>49999</th>\n",
       "      <td>27047</td>\n",
       "      <td>2012-12-14 01:22:44.638</td>\n",
       "      <td>4</td>\n",
       "      <td>1</td>\n",
       "      <td>25</td>\n",
       "      <td>product_review,ScanPreview,ProfileVerifySSN,Pr...</td>\n",
       "      <td>0</td>\n",
       "      <td>0</td>\n",
       "      <td>0</td>\n",
       "      <td>NaT</td>\n",
       "      <td>...</td>\n",
       "      <td>0</td>\n",
       "      <td>0</td>\n",
       "      <td>0</td>\n",
       "      <td>0</td>\n",
       "      <td>0</td>\n",
       "      <td>0</td>\n",
       "      <td>0</td>\n",
       "      <td>0</td>\n",
       "      <td>0</td>\n",
       "      <td>5</td>\n",
       "    </tr>\n",
       "  </tbody>\n",
       "</table>\n",
       "<p>50000 rows × 72 columns</p>\n",
       "</div>"
      ],
      "text/plain": [
       "         user              first_open  dayofweek  hour  age  \\\n",
       "0      235136 2012-12-27 02:14:51.273          3     2   23   \n",
       "1      333588 2012-12-02 01:16:00.905          6     1   24   \n",
       "2      254414 2013-03-19 19:19:09.157          1    19   23   \n",
       "3      234192 2013-07-05 16:08:46.354          4    16   28   \n",
       "4       51549 2013-02-26 18:50:48.661          1    18   31   \n",
       "...       ...                     ...        ...   ...  ...   \n",
       "49995  222774 2013-05-09 13:46:17.871          3    13   32   \n",
       "49996  169179 2013-04-09 00:05:17.823          1     0   35   \n",
       "49997  302367 2013-02-20 22:41:51.165          2    22   39   \n",
       "49998  324905 2013-04-28 12:33:04.288          6    12   27   \n",
       "49999   27047 2012-12-14 01:22:44.638          4     1   25   \n",
       "\n",
       "                                             screen_list  minigame  \\\n",
       "0      joinscreen,product_review,ScanPreview,VerifyTo...         0   \n",
       "1      joinscreen,product_review,product_review2,Scan...         0   \n",
       "2                                                                0   \n",
       "3      product_review,Home,product_review,ReferralCon...         0   \n",
       "4      joinscreen,ScanPreview,VerifySSN,Home,SelectIn...         0   \n",
       "...                                                  ...       ...   \n",
       "49995  Home,ScanPreview,VerifySSN,product_review,prod...         0   \n",
       "49996                                              Home,         0   \n",
       "49997  joinscreen,product_review,product_review2,Scan...         0   \n",
       "49998  Home,product_review,product_review,product_rev...         0   \n",
       "49999  product_review,ScanPreview,ProfileVerifySSN,Pr...         0   \n",
       "\n",
       "       used_premium_feature  enrolled           enrolled_date  ...  Login  \\\n",
       "0                         0         0                     NaT  ...      1   \n",
       "1                         0         0                     NaT  ...      0   \n",
       "2                         1         0                     NaT  ...      0   \n",
       "3                         0         1 2013-07-05 16:11:49.513  ...      0   \n",
       "4                         0         1 2013-02-26 18:56:37.841  ...      0   \n",
       "...                     ...       ...                     ...  ...    ...   \n",
       "49995                     0         1 2013-05-09 13:47:52.875  ...      0   \n",
       "49996                     1         0                     NaT  ...      0   \n",
       "49997                     0         0                     NaT  ...      0   \n",
       "49998                     0         1 2013-04-28 12:35:38.709  ...      0   \n",
       "49999                     0         0                     NaT  ...      0   \n",
       "\n",
       "       ProfileEmploymentLength  WebView  SecurityModal  Loan4  ResendToken  \\\n",
       "0                            0        0              0      0            0   \n",
       "1                            0        0              0      0            0   \n",
       "2                            0        0              0      0            0   \n",
       "3                            0        0              0      0            0   \n",
       "4                            0        0              0      0            0   \n",
       "...                        ...      ...            ...    ...          ...   \n",
       "49995                        0        1              0      0            0   \n",
       "49996                        0        0              0      0            0   \n",
       "49997                        0        0              0      0            0   \n",
       "49998                        0        0              0      0            0   \n",
       "49999                        0        0              0      0            0   \n",
       "\n",
       "       TransactionList  NetworkFailure  ListPicker  number_non_top_screen  \n",
       "0                    0               0           0                      7  \n",
       "1                    0               0           0                      5  \n",
       "2                    0               0           0                      0  \n",
       "3                    0               0           0                      6  \n",
       "4                    0               0           0                     10  \n",
       "...                ...             ...         ...                    ...  \n",
       "49995                0               0           0                      6  \n",
       "49996                0               0           0                      1  \n",
       "49997                0               0           0                      6  \n",
       "49998                0               0           0                     13  \n",
       "49999                0               0           0                      5  \n",
       "\n",
       "[50000 rows x 72 columns]"
      ]
     },
     "execution_count": 31,
     "metadata": {},
     "output_type": "execute_result"
    }
   ],
   "source": [
    "# Menjumlahkan banyaknya value non top_screens pada screen list\n",
    "df2['number_non_top_screen'] = df2.screen_list.str.count(',')\n",
    "df2"
   ]
  },
  {
   "cell_type": "markdown",
   "id": "a72d67bc",
   "metadata": {},
   "source": [
    "### Feature Grouping"
   ]
  },
  {
   "cell_type": "code",
   "execution_count": 32,
   "id": "49533c37",
   "metadata": {
    "scrolled": true
   },
   "outputs": [
    {
     "data": {
      "text/plain": [
       "array(['AccountView', 'Alerts', 'BankVerification', 'CC1', 'CC1Category',\n",
       "       'CC3', 'Credit1', 'Credit2', 'Credit3', 'Credit3Container',\n",
       "       'Credit3Dashboard', 'Cycle', 'EditProfile', 'Finances',\n",
       "       'Institutions', 'Leaderboard', 'ListPicker', 'Loan', 'Loan2',\n",
       "       'Loan3', 'Loan4', 'Login', 'NetworkFailure', 'ProfileChildren ',\n",
       "       'ProfileEducation', 'ProfileEducationMajor',\n",
       "       'ProfileEmploymentLength', 'ProfileJobTitle',\n",
       "       'ProfileMaritalStatus', 'ProfilePage', 'ResendToken',\n",
       "       'RewardDetail', 'Rewards', 'RewardsContainer', 'Saving1',\n",
       "       'Saving10', 'Saving2', 'Saving2Amount', 'Saving4', 'Saving5',\n",
       "       'Saving6', 'Saving7', 'Saving8', 'Saving9', 'SecurityModal',\n",
       "       'Splash', 'TransactionList', 'VerifyAnnualIncome', 'VerifyCountry',\n",
       "       'VerifyDateOfBirth', 'VerifyHousing', 'VerifyHousingAmount',\n",
       "       'VerifyIncomeType', 'VerifyMobile', 'VerifyPhone', 'WebView',\n",
       "       'idscreen', 'location'], dtype=object)"
      ]
     },
     "execution_count": 32,
     "metadata": {},
     "output_type": "execute_result"
    }
   ],
   "source": [
    "# identify \n",
    "top_screens.sort()\n",
    "top_screens"
   ]
  },
  {
   "cell_type": "markdown",
   "id": "af398334",
   "metadata": {},
   "source": [
    "Terdapat banyak feature atau kolom yang sejenis, disini saya akan melakukan funneling yang tujuannya untuk meringkas agar tidak banyak kolom dan mempercepat komputasi."
   ]
  },
  {
   "cell_type": "code",
   "execution_count": 33,
   "id": "659695f2",
   "metadata": {},
   "outputs": [],
   "source": [
    "# Proses penggabungan beberapa screen yang sama (Funneling)\n",
    "screen_loan = ['Loan',\n",
    "              'Loan2',\n",
    "              'Loan3',\n",
    "              'Loan4']\n",
    "df2['jumlah_loan'] = df2[screen_loan].sum(axis=1) # axis=1 artinya menghitung jumlah item per baris\n",
    "df2.drop(columns=screen_loan, inplace=True) # menghilangkan semua kolom yg menjadi list savings_screen"
   ]
  },
  {
   "cell_type": "code",
   "execution_count": 34,
   "id": "a49b09a1",
   "metadata": {},
   "outputs": [],
   "source": [
    "screen_cc = ['CC1',\n",
    "            'CC1Category',\n",
    "            'CC3']\n",
    "df2['jumlah_cc'] = df2[screen_cc].sum(axis=1)\n",
    "df2.drop(columns=screen_cc, inplace=True)"
   ]
  },
  {
   "cell_type": "code",
   "execution_count": 35,
   "id": "f7cda108",
   "metadata": {},
   "outputs": [],
   "source": [
    "screen_saving = ['Saving1',\n",
    "                'Saving2',\n",
    "                'Saving2Amount',\n",
    "                'Saving4',\n",
    "                'Saving5',\n",
    "                'Saving6',\n",
    "                'Saving7',\n",
    "                'Saving8',\n",
    "                'Saving9',\n",
    "                'Saving10']\n",
    "df2['jumlah_saving'] = df2[screen_saving].sum(axis=1) \n",
    "df2.drop(columns=screen_saving, inplace=True) \n"
   ]
  },
  {
   "cell_type": "code",
   "execution_count": 36,
   "id": "de814124",
   "metadata": {},
   "outputs": [],
   "source": [
    "screen_credit = ['Credit1',\n",
    "                'Credit2',\n",
    "                'Credit3',\n",
    "                'Credit3Container',\n",
    "                'Credit3Dashboard']\n",
    "df2[\"jumlah_kredit\"] = df2[screen_credit].sum(axis=1)\n",
    "df2.drop(columns=screen_credit, inplace=True)"
   ]
  },
  {
   "cell_type": "markdown",
   "id": "065175d1",
   "metadata": {},
   "source": [
    "# Modeling\n",
    "- Logistic Regression\n",
    "- SVM\n",
    "- Decission Trees\n",
    "- Random Forest"
   ]
  },
  {
   "cell_type": "markdown",
   "id": "6ff90704",
   "metadata": {},
   "source": [
    "### Model Spliting"
   ]
  },
  {
   "cell_type": "code",
   "execution_count": 37,
   "id": "f8f2f4f8",
   "metadata": {},
   "outputs": [],
   "source": [
    "# Mendefinisikan var dependen\n",
    "y = np.array(df2['enrolled'])\n",
    "# Menghilangkan beberapa kolom yang redundan\n",
    "df2.drop(columns = ['first_open', 'screen_list','enrolled',\n",
    "                        'enrolled_date', 'selisih'], inplace=True)"
   ]
  },
  {
   "cell_type": "code",
   "execution_count": 38,
   "id": "d14b269b",
   "metadata": {},
   "outputs": [],
   "source": [
    "# For Logistic Model\n",
    "from sklearn.model_selection import train_test_split\n",
    "X_train, X_test, y_train, y_test = train_test_split(df2,y, test_size = 0.2, random_state = 42 , stratify=y)"
   ]
  },
  {
   "cell_type": "code",
   "execution_count": 39,
   "id": "efa517fd",
   "metadata": {},
   "outputs": [],
   "source": [
    "# Menyimpan user ID untuk training dan test set\n",
    "train_id = np.array(X_train['user'])\n",
    "test_id = np.array(X_test['user'])"
   ]
  },
  {
   "cell_type": "code",
   "execution_count": 40,
   "id": "5e29458f",
   "metadata": {},
   "outputs": [
    {
     "name": "stderr",
     "output_type": "stream",
     "text": [
      "C:\\Users\\ASUS\\anaconda3\\envs\\projectx\\lib\\site-packages\\pandas\\core\\frame.py:4308: SettingWithCopyWarning: \n",
      "A value is trying to be set on a copy of a slice from a DataFrame\n",
      "\n",
      "See the caveats in the documentation: https://pandas.pydata.org/pandas-docs/stable/user_guide/indexing.html#returning-a-view-versus-a-copy\n",
      "  return super().drop(\n"
     ]
    }
   ],
   "source": [
    "# Menghilangkan kolom user di X_train dan X_test\n",
    "X_train.drop(columns=['user'], inplace=True)\n",
    "X_test.drop(columns=['user'], inplace=True)"
   ]
  },
  {
   "cell_type": "code",
   "execution_count": 41,
   "id": "adb9999f",
   "metadata": {},
   "outputs": [],
   "source": [
    "# Merubah X_train dan X_test menjadi numpy array (test set sudah berbentuk array ajdi tidak perlu)\n",
    "X_train = np.array(X_train)\n",
    "X_test = np.array(X_test)"
   ]
  },
  {
   "cell_type": "code",
   "execution_count": 42,
   "id": "a881a700",
   "metadata": {},
   "outputs": [],
   "source": [
    "# Menghilangkan variabel kosong\n",
    "X_train = np.delete(X_train, 27, 1)\n",
    "X_test = np.delete(X_test, 27, 1)"
   ]
  },
  {
   "cell_type": "markdown",
   "id": "30b390dd",
   "metadata": {},
   "source": [
    "## Create the model without RandomizeCV."
   ]
  },
  {
   "cell_type": "markdown",
   "id": "cbc928ba",
   "metadata": {},
   "source": [
    "### Feature Scaling"
   ]
  },
  {
   "cell_type": "code",
   "execution_count": 43,
   "id": "757a9d7c",
   "metadata": {},
   "outputs": [],
   "source": [
    "# Preprocessing Standardization (Feature Scaling)\n",
    "from sklearn.preprocessing import StandardScaler\n",
    "sc_X = StandardScaler()\n",
    "X_train = sc_X.fit_transform(X_train)\n",
    "X_test = sc_X.transform(X_test)"
   ]
  },
  {
   "cell_type": "markdown",
   "id": "18847232",
   "metadata": {},
   "source": [
    "#### Logistic Regression"
   ]
  },
  {
   "cell_type": "code",
   "execution_count": 44,
   "id": "d09dcbf1",
   "metadata": {},
   "outputs": [
    {
     "name": "stdout",
     "output_type": "stream",
     "text": [
      "Wall time: 5.47 s\n",
      "Wall time: 1.76 ms\n",
      "              precision    recall  f1-score   support\n",
      "\n",
      "           0       0.77      0.77      0.77      5030\n",
      "           1       0.77      0.77      0.77      4970\n",
      "\n",
      "    accuracy                           0.77     10000\n",
      "   macro avg       0.77      0.77      0.77     10000\n",
      "weighted avg       0.77      0.77      0.77     10000\n",
      "\n",
      "[[3861 1169]\n",
      " [1160 3810]]\n"
     ]
    }
   ],
   "source": [
    "from sklearn.linear_model import LogisticRegression\n",
    "from sklearn.metrics import classification_report\n",
    "from sklearn.metrics import confusion_matrix\n",
    "# Train The model\n",
    "model_lr = LogisticRegression(solver=\"liblinear\", random_state = 42, penalty = 'l1')\n",
    "%time model_lr.fit(X_train, y_train)\n",
    "# Predict model DecissionTree and summary statistic\n",
    "%time lr_test_predict = model_lr.predict(X_test)\n",
    "cm = confusion_matrix(y_test, lr_test_predict)\n",
    "print(classification_report(y_test, lr_test_predict))\n",
    "print(cm)"
   ]
  },
  {
   "cell_type": "markdown",
   "id": "cf94a7bc",
   "metadata": {},
   "source": [
    "#### SVM"
   ]
  },
  {
   "cell_type": "code",
   "execution_count": 45,
   "id": "d6b5700c",
   "metadata": {},
   "outputs": [
    {
     "name": "stdout",
     "output_type": "stream",
     "text": [
      "Wall time: 10min 25s\n",
      "Wall time: 10.5 s\n",
      "              precision    recall  f1-score   support\n",
      "\n",
      "           0       0.77      0.77      0.77      5030\n",
      "           1       0.76      0.76      0.76      4970\n",
      "\n",
      "    accuracy                           0.77     10000\n",
      "   macro avg       0.77      0.77      0.77     10000\n",
      "weighted avg       0.77      0.77      0.77     10000\n",
      "\n",
      "[[3859 1171]\n",
      " [1169 3801]]\n"
     ]
    }
   ],
   "source": [
    "from sklearn.svm import SVC\n",
    "# Train The model\n",
    "model_svc = SVC(kernel=\"poly\", random_state = 42, C=0.1, probability=True)\n",
    "%time model_svc.fit(X_train, y_train)\n",
    "# Predict model SVC gaussian and summary statistic\n",
    "%time svc_test_predict = model_svc.predict(X_test)\n",
    "cm = confusion_matrix(y_test, svc_test_predict)\n",
    "print(classification_report(y_test, svc_test_predict))\n",
    "print(cm)"
   ]
  },
  {
   "cell_type": "markdown",
   "id": "00369100",
   "metadata": {},
   "source": [
    "#### Decission Trees"
   ]
  },
  {
   "cell_type": "code",
   "execution_count": 46,
   "id": "05d85f61",
   "metadata": {
    "scrolled": true
   },
   "outputs": [
    {
     "name": "stdout",
     "output_type": "stream",
     "text": [
      "Wall time: 177 ms\n",
      "Wall time: 2.99 ms\n",
      "              precision    recall  f1-score   support\n",
      "\n",
      "           0       0.76      0.81      0.78      5030\n",
      "           1       0.80      0.73      0.76      4970\n",
      "\n",
      "    accuracy                           0.77     10000\n",
      "   macro avg       0.78      0.77      0.77     10000\n",
      "weighted avg       0.78      0.77      0.77     10000\n",
      "\n",
      "[[4094  936]\n",
      " [1326 3644]]\n"
     ]
    }
   ],
   "source": [
    "from sklearn.tree import DecisionTreeClassifier\n",
    "# Train The model\n",
    "model_dt = DecisionTreeClassifier(criterion =\"gini\", max_depth = 10, random_state = 42)\n",
    "%time model_dt.fit(X_train, y_train)\n",
    "# Predict model DecissionTree and summary statistic\n",
    "%time dt_test_predict = model_dt.predict(X_test)\n",
    "cm = confusion_matrix(y_test, dt_test_predict)\n",
    "print(classification_report(y_test, dt_test_predict))\n",
    "print(cm)"
   ]
  },
  {
   "cell_type": "markdown",
   "id": "fd39d956",
   "metadata": {},
   "source": [
    "#### Random Forest"
   ]
  },
  {
   "cell_type": "code",
   "execution_count": 63,
   "id": "cdb64150",
   "metadata": {
    "scrolled": false
   },
   "outputs": [
    {
     "name": "stdout",
     "output_type": "stream",
     "text": [
      "Wall time: 1.92 s\n",
      "Wall time: 112 ms\n",
      "              precision    recall  f1-score   support\n",
      "\n",
      "           0       0.77      0.80      0.79      5030\n",
      "           1       0.79      0.76      0.77      4970\n",
      "\n",
      "    accuracy                           0.78     10000\n",
      "   macro avg       0.78      0.78      0.78     10000\n",
      "weighted avg       0.78      0.78      0.78     10000\n",
      "\n",
      "[[3760 1210]\n",
      " [ 987 4043]]\n"
     ]
    }
   ],
   "source": [
    "from sklearn.ensemble import RandomForestClassifier\n",
    "# Train The model\n",
    "model_rf = RandomForestClassifier(criterion =\"gini\", max_depth = 10, n_estimators = 101, random_state = 42)\n",
    "%time model_rf.fit(X_train, y_train)\n",
    "# Predict model RandomForest and summary statistic\n",
    "%time rf_test_predict = model_rf.predict(X_test)\n",
    "cm = confusion_matrix(y_test, rf_test_predict)\n",
    "print(classification_report(y_test, rf_test_predict))\n",
    "print(cm)"
   ]
  },
  {
   "cell_type": "markdown",
   "id": "cf483aa4",
   "metadata": {},
   "source": [
    "Terlihat dari ke-empat model diatas, SVC memiliki rentan waktu yang cukup signifikan dibandingkan ke-tiga model lainnya dari segi training datanya namun unggul dalam kecepatan memprediksi dan yang unggul dari segi kecepatan dari ketiga model berdasarkan training dan predict nya adalah DecissionTrees, namun apakah DecissionTrees memiliki ketepatan dalam hal memprediksi?, disini dapat terlihat bahwa DecissionTrees memiliki hasil recall precission, f1score dan akurasi dari kedua kelasnya tidak begitu seimbang dibandingkan model logistic yang sangat fit di 77 dari summary statisticnya, namun loguistic memiliki ConfusionMatrix(hasil tebakan) yang tidak cukup baik, jika dilihat lagi dari ke empat model, disini saya menentukan bahwa RandomForestlah yang lumayan optimal dari segi summary statistic dan confusionmatrixnya mampu menebak True Positif dan True Negatif Classnya secara lebih banyak, dalam artian model ini sudah cukup baik dalam hal memprediksi, namun disini saya belum cukup puas jika melihat dari summary statistic nya saja, maka pada langkah selanjutnya saya akan membuat kurva ROC, lalu melihat perbandingan dari ke-empat modelnya sehingga bisa ditentukan model mana yang nantinya akan dipilih dan dilakukan hyperparameter tuning untuk lebih mengoptimalkan si model tsb."
   ]
  },
  {
   "cell_type": "markdown",
   "id": "0d8e2e38",
   "metadata": {},
   "source": [
    "### ROC Curve"
   ]
  },
  {
   "cell_type": "code",
   "execution_count": 48,
   "id": "736b2474",
   "metadata": {},
   "outputs": [],
   "source": [
    "def plot_roc_curve(fpr, tpr, label=None):\n",
    "    plt.plot(fpr, tpr, linewidth=2, label=label)\n",
    "    plt.plot([0, 1], [0, 1], 'k--') # dashed diagonal\n",
    "    plt.axis([0, 1, 0, 1])                                    \n",
    "    plt.xlabel('False Positive Rate (Fall-Out)', fontsize=16) \n",
    "    plt.ylabel('True Positive Rate (Recall)', fontsize=16)   \n",
    "    plt.grid(True)"
   ]
  },
  {
   "cell_type": "code",
   "execution_count": 49,
   "id": "f40ba50d",
   "metadata": {},
   "outputs": [
    {
     "data": {
      "text/plain": [
       "<matplotlib.legend.Legend at 0x25e7567fdf0>"
      ]
     },
     "execution_count": 49,
     "metadata": {},
     "output_type": "execute_result"
    },
    {
     "data": {
      "image/png": "[encoded data removed]",
      "text/plain": [
       "<Figure size 576x432 with 1 Axes>"
      ]
     },
     "metadata": {},
     "output_type": "display_data"
    }
   ],
   "source": [
    "from sklearn.metrics import roc_curve,auc\n",
    "plt.figure(figsize=(8, 6))                                   \n",
    "plt.axis([0, 1, 0, 1])                                   \n",
    "plt.xlabel('False Positive Rate (Fall-Out)', fontsize=16) \n",
    "plt.ylabel('True Positive Rate (Recall)', fontsize=16)    \n",
    "plt.grid(True)                                           \n",
    "plt.plot([0, 1], [0, 1], 'k--') # dashed diagonal\n",
    "labels=[\"LR\",'SVC','DecissionTree', 'RandomForest']\n",
    "for idx,model in enumerate([model_lr,model_svc,model_dt,model_rf]):\n",
    "    y_scores=model.predict_proba(X_test)[:,1]\n",
    "    fpr, tpr, thresholds = roc_curve(y_test, y_scores)\n",
    "    roc_auc = auc(fpr, tpr)\n",
    "    plt.plot(fpr, tpr, linewidth=2,label=labels[idx] + ' ROC curve (area = %0.2f)' % roc_auc)\n",
    "plt.legend(loc=\"lower right\")"
   ]
  },
  {
   "cell_type": "markdown",
   "id": "aaf7ea6d",
   "metadata": {},
   "source": [
    "Disini sudah jelas bahwa model RandomForest lebih unggul, karna nilai TPR nya mendekati angka 1 yang dimana model cukup baik dalam hal memprediksi, tapi apakah model RandomForest ini akan lebih baik jika dilakukan HyperParameter Tuning?, pada langkah selanjutnya saya akan melakukan nya menggunakan RandomizeCV dimana model akan dilakukan pengujian secara berkala, menggunakan kombinasi dari parameternya secara acak."
   ]
  },
  {
   "cell_type": "markdown",
   "id": "54c622d4",
   "metadata": {},
   "source": [
    "## Create the model with RandomizeCV."
   ]
  },
  {
   "cell_type": "code",
   "execution_count": 50,
   "id": "649259df",
   "metadata": {},
   "outputs": [],
   "source": [
    "from sklearn.model_selection import RandomizedSearchCV,StratifiedKFold\n",
    "skf = StratifiedKFold(n_splits = 5)"
   ]
  },
  {
   "cell_type": "markdown",
   "id": "181ee673",
   "metadata": {},
   "source": [
    "#### Random Forest based on RandomizedSearchCV"
   ]
  },
  {
   "cell_type": "code",
   "execution_count": 51,
   "id": "dd088235",
   "metadata": {},
   "outputs": [],
   "source": [
    "# Pipeline RandomizeCV model\n",
    "from sklearn.pipeline import make_pipeline\n",
    "# standard syntax\n",
    "pipe = make_pipeline(StandardScaler(),RandomForestClassifier())"
   ]
  },
  {
   "cell_type": "code",
   "execution_count": 52,
   "id": "7978e4ec",
   "metadata": {},
   "outputs": [],
   "source": [
    "# RandomizeCV model\n",
    "n_estimators = [int(x) for x in np.linspace(start=1, stop=150, num = 10)]\n",
    "max_features = ['auto', 'sqrt', 'log2']\n",
    "max_depth = [int(x) for x in np.linspace(5, 100, 10)]\n",
    "min_samples_split = [2, 5, 10, 14]\n",
    "min_samples_leaf = [1, 2, 4, 6, 8]\n",
    "random_grid = {'randomforestclassifier__n_estimators': n_estimators,\n",
    "               'randomforestclassifier__max_features':max_features,\n",
    "               'randomforestclassifier__max_depth':max_depth,\n",
    "               'randomforestclassifier__min_samples_split':min_samples_split,\n",
    "               'randomforestclassifier__min_samples_leaf':min_samples_leaf,\n",
    "               'randomforestclassifier__criterion':['gini','entropy']}"
   ]
  },
  {
   "cell_type": "code",
   "execution_count": 53,
   "id": "731ed052",
   "metadata": {
    "scrolled": true
   },
   "outputs": [
    {
     "data": {
      "text/plain": [
       "RandomizedSearchCV(cv=StratifiedKFold(n_splits=5, random_state=None, shuffle=False),\n",
       "                   estimator=Pipeline(steps=[('standardscaler',\n",
       "                                              StandardScaler()),\n",
       "                                             ('randomforestclassifier',\n",
       "                                              RandomForestClassifier())]),\n",
       "                   n_jobs=-1,\n",
       "                   param_distributions={'randomforestclassifier__criterion': ['gini',\n",
       "                                                                              'entropy'],\n",
       "                                        'randomforestclassifier__max_depth': [5,\n",
       "                                                                              15,\n",
       "                                                                              26,\n",
       "                                                                              36,\n",
       "                                                                              47,\n",
       "                                                                              57,\n",
       "                                                                              68,\n",
       "                                                                              78,\n",
       "                                                                              89,\n",
       "                                                                              100],\n",
       "                                        'randomforestclassifier__max_features': ['auto',\n",
       "                                                                                 'log2'],\n",
       "                                        'randomforestclassifier__min_samples_leaf': [1,\n",
       "                                                                                     2,\n",
       "                                                                                     4,\n",
       "                                                                                     6,\n",
       "                                                                                     8],\n",
       "                                        'randomforestclassifier__min_samples_split': [2,\n",
       "                                                                                      5,\n",
       "                                                                                      10,\n",
       "                                                                                      14],\n",
       "                                        'randomforestclassifier__n_estimators': [1,\n",
       "                                                                                 17,\n",
       "                                                                                 34,\n",
       "                                                                                 50,\n",
       "                                                                                 67,\n",
       "                                                                                 83,\n",
       "                                                                                 100,\n",
       "                                                                                 116,\n",
       "                                                                                 133,\n",
       "                                                                                 150]},\n",
       "                   random_state=42)"
      ]
     },
     "execution_count": 53,
     "metadata": {},
     "output_type": "execute_result"
    }
   ],
   "source": [
    "rf = RandomForestClassifier()\n",
    "rf_randomcv = RandomizedSearchCV(pipe, param_distributions=random_grid,\n",
    "                                 cv=skf, random_state=42, n_jobs=-1)\n",
    "rf_randomcv.fit(X_train, y_train)"
   ]
  },
  {
   "cell_type": "code",
   "execution_count": 54,
   "id": "bd2603a3",
   "metadata": {},
   "outputs": [
    {
     "data": {
      "text/plain": [
       "{'randomforestclassifier__n_estimators': 83,\n",
       " 'randomforestclassifier__min_samples_split': 10,\n",
       " 'randomforestclassifier__min_samples_leaf': 2,\n",
       " 'randomforestclassifier__max_features': 'log2',\n",
       " 'randomforestclassifier__max_depth': 57,\n",
       " 'randomforestclassifier__criterion': 'entropy'}"
      ]
     },
     "execution_count": 54,
     "metadata": {},
     "output_type": "execute_result"
    }
   ],
   "source": [
    "rf_randomcv.best_params_"
   ]
  },
  {
   "cell_type": "code",
   "execution_count": 61,
   "id": "6f88aa76",
   "metadata": {},
   "outputs": [
    {
     "name": "stdout",
     "output_type": "stream",
     "text": [
      "              precision    recall  f1-score   support\n",
      "\n",
      "           0       0.81      0.77      0.79      5253\n",
      "           1       0.76      0.80      0.78      4747\n",
      "\n",
      "    accuracy                           0.79     10000\n",
      "   macro avg       0.79      0.79      0.79     10000\n",
      "weighted avg       0.79      0.79      0.79     10000\n",
      "\n",
      "[[3786  961]\n",
      " [1184 4069]]\n"
     ]
    }
   ],
   "source": [
    "from sklearn.metrics import accuracy_score\n",
    "rf_best_random = rf_randomcv.best_estimator_\n",
    "y_pred_rf = rf_best_random.predict(X_test)\n",
    "cm = confusion_matrix(y_pred_rf,y_test)\n",
    "print(classification_report(y_pred_rf,y_test))\n",
    "print(cm)"
   ]
  },
  {
   "cell_type": "code",
   "execution_count": 62,
   "id": "152e6760",
   "metadata": {
    "scrolled": false
   },
   "outputs": [
    {
     "data": {
      "text/plain": [
       "<AxesSubplot:xlabel='Prediksi', ylabel='Aktual'>"
      ]
     },
     "execution_count": 62,
     "metadata": {},
     "output_type": "execute_result"
    },
    {
     "data": {
      "image/png": "[encoded data removed]",
      "text/plain": [
       "<Figure size 432x288 with 2 Axes>"
      ]
     },
     "metadata": {},
     "output_type": "display_data"
    }
   ],
   "source": [
    "# Menggunakan seaborn untuk CM\n",
    "cm_label = pd.DataFrame(cm, columns = np.unique(y_test),\n",
    "                        index = np.unique(y_test))\n",
    "\n",
    "cm_label.index.name = 'Aktual'\n",
    "cm_label.columns.name = 'Prediksi'\n",
    "sns.heatmap(cm_label, annot=True, cmap='Reds', fmt='g')"
   ]
  },
  {
   "cell_type": "markdown",
   "id": "067d349e",
   "metadata": {},
   "source": [
    "Dari hasil pengujian secara acak menggunakan RandomizeCV, didapatkan score yang cukup indah dilihat, dimana didapatkan racikan parameter yang sesuai yaitu :\n",
    "\n",
    "- 'n_estimators': 83,\n",
    "- 'min_samples_split': 10,\n",
    "- 'min_samples_leaf': 2,\n",
    "- 'max_features': 'log2',\n",
    "- 'max_depth': 57,\n",
    "- 'criterion': 'entropy'\n",
    "\n",
    "dengan parameter tersebut maka precission, recall, f1-score dan akurasinya naik, sehingga ketepatan dalam memprediksinyapun juga akan naik, kita dapat melihat juga bahwa FALSE POSITIVEnya berhasil berkurang, yang mana bisa diartikan bahwa orang yang tidak akan enrolled tetapi terprediksi enrolled itu berkurang sebanyak 249, hal ini akan menjadi masalah bagi team marketing jika model yang sebelumnya atau yang belum tuning digunakan dalam model inference, masalahnya adalah team marketing kesulitan melakukan approach yang cocok untuk orang\" yang benar\" ingin enrolled, tapi hasil prediksi mengatakan sebaliknya, dan fokus kita selanjutnya ada pada matrix TRUE NEGATIVE nya dimana team marketing dapat dengan mudah melakukan pendekatan terhadap orang yang terprediksi tidak enroled dan dia memang tidak akan enroled, sebab team marketing tidak akan menyia nyiakan waktu untuk approach terhadap customer tersebut."
   ]
  },
  {
   "cell_type": "markdown",
   "id": "e5478fc9",
   "metadata": {},
   "source": [
    "# Model Inference"
   ]
  },
  {
   "cell_type": "code",
   "execution_count": 64,
   "id": "5ca67d43",
   "metadata": {},
   "outputs": [],
   "source": [
    "# Menggabungkan semuanya\n",
    "y_pred_series = pd.Series(y_test).rename('actual', inplace=True)\n",
    "hasil_akhir = pd.concat([y_pred_series, pd.DataFrame(test_id)], axis=1).dropna()\n",
    "hasil_akhir['predict'] = y_pred_rf\n",
    "hasil_akhir.rename(columns={0:'user'}, inplace = True)\n",
    "hasil_akhir = hasil_akhir[['user','actual','predict']].reset_index(drop=True)"
   ]
  },
  {
   "cell_type": "code",
   "execution_count": 65,
   "id": "8e8a10a3",
   "metadata": {
    "scrolled": true
   },
   "outputs": [
    {
     "data": {
      "text/html": [
       "<div>\n",
       "<style scoped>\n",
       "    .dataframe tbody tr th:only-of-type {\n",
       "        vertical-align: middle;\n",
       "    }\n",
       "\n",
       "    .dataframe tbody tr th {\n",
       "        vertical-align: top;\n",
       "    }\n",
       "\n",
       "    .dataframe thead th {\n",
       "        text-align: right;\n",
       "    }\n",
       "</style>\n",
       "<table border=\"1\" class=\"dataframe\">\n",
       "  <thead>\n",
       "    <tr style=\"text-align: right;\">\n",
       "      <th></th>\n",
       "      <th>user</th>\n",
       "      <th>actual</th>\n",
       "      <th>predict</th>\n",
       "    </tr>\n",
       "  </thead>\n",
       "  <tbody>\n",
       "    <tr>\n",
       "      <th>0</th>\n",
       "      <td>75142</td>\n",
       "      <td>0</td>\n",
       "      <td>0</td>\n",
       "    </tr>\n",
       "    <tr>\n",
       "      <th>1</th>\n",
       "      <td>104426</td>\n",
       "      <td>0</td>\n",
       "      <td>1</td>\n",
       "    </tr>\n",
       "    <tr>\n",
       "      <th>2</th>\n",
       "      <td>365692</td>\n",
       "      <td>1</td>\n",
       "      <td>1</td>\n",
       "    </tr>\n",
       "    <tr>\n",
       "      <th>3</th>\n",
       "      <td>126533</td>\n",
       "      <td>0</td>\n",
       "      <td>0</td>\n",
       "    </tr>\n",
       "    <tr>\n",
       "      <th>4</th>\n",
       "      <td>192855</td>\n",
       "      <td>0</td>\n",
       "      <td>0</td>\n",
       "    </tr>\n",
       "    <tr>\n",
       "      <th>...</th>\n",
       "      <td>...</td>\n",
       "      <td>...</td>\n",
       "      <td>...</td>\n",
       "    </tr>\n",
       "    <tr>\n",
       "      <th>9995</th>\n",
       "      <td>139710</td>\n",
       "      <td>0</td>\n",
       "      <td>1</td>\n",
       "    </tr>\n",
       "    <tr>\n",
       "      <th>9996</th>\n",
       "      <td>352013</td>\n",
       "      <td>0</td>\n",
       "      <td>0</td>\n",
       "    </tr>\n",
       "    <tr>\n",
       "      <th>9997</th>\n",
       "      <td>334401</td>\n",
       "      <td>0</td>\n",
       "      <td>1</td>\n",
       "    </tr>\n",
       "    <tr>\n",
       "      <th>9998</th>\n",
       "      <td>89222</td>\n",
       "      <td>1</td>\n",
       "      <td>1</td>\n",
       "    </tr>\n",
       "    <tr>\n",
       "      <th>9999</th>\n",
       "      <td>118341</td>\n",
       "      <td>0</td>\n",
       "      <td>0</td>\n",
       "    </tr>\n",
       "  </tbody>\n",
       "</table>\n",
       "<p>10000 rows × 3 columns</p>\n",
       "</div>"
      ],
      "text/plain": [
       "        user  actual  predict\n",
       "0      75142       0        0\n",
       "1     104426       0        1\n",
       "2     365692       1        1\n",
       "3     126533       0        0\n",
       "4     192855       0        0\n",
       "...      ...     ...      ...\n",
       "9995  139710       0        1\n",
       "9996  352013       0        0\n",
       "9997  334401       0        1\n",
       "9998   89222       1        1\n",
       "9999  118341       0        0\n",
       "\n",
       "[10000 rows x 3 columns]"
      ]
     },
     "execution_count": 65,
     "metadata": {},
     "output_type": "execute_result"
    }
   ],
   "source": [
    "hasil_akhir"
   ]
  }
 ],
 "metadata": {
  "kernelspec": {
   "display_name": "projectx",
   "language": "python",
   "name": "projectx"
  },
  "language_info": {
   "codemirror_mode": {
    "name": "ipython",
    "version": 3
   },
   "file_extension": ".py",
   "mimetype": "text/x-python",
   "name": "python",
   "nbconvert_exporter": "python",
   "pygments_lexer": "ipython3",
   "version": "3.9.4"
  }
 },
 "nbformat": 4,
 "nbformat_minor": 5
}
